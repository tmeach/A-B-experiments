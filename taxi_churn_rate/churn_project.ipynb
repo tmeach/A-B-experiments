{
 "cells": [
  {
   "cell_type": "markdown",
   "id": "ac409cd7-89fa-4b8b-bb51-1966fe0bba8c",
   "metadata": {},
   "source": [
    "#### Загружаю библиотеки\n"
   ]
  },
  {
   "cell_type": "code",
   "execution_count": 75,
   "id": "2161cded-f584-414e-8658-fd626123e02d",
   "metadata": {},
   "outputs": [],
   "source": [
    "import pandas as pd\n",
    "import numpy as np\n",
    "import scipy.stats as ss\n",
    "from scipy.stats import shapiro, chi2_contingency, mannwhitneyu, kruskal\n",
    "\n",
    "import statsmodels.api as sa\n",
    "import statsmodels.formula.api as sfa\n",
    "import scikit_posthocs as sp\n",
    "\n",
    "import seaborn as sns \n",
    "import matplotlib.pyplot as plt\n"
   ]
  },
  {
   "cell_type": "markdown",
   "id": "1facfb90-788d-4c70-ac89-ff77483d735e",
   "metadata": {},
   "source": [
    "#### Подгружаю данные"
   ]
  },
  {
   "cell_type": "code",
   "execution_count": 5,
   "id": "6af571ee-50d0-4d00-a4c0-08609f2613bc",
   "metadata": {},
   "outputs": [
    {
     "data": {
      "text/html": [
       "<div>\n",
       "<style scoped>\n",
       "    .dataframe tbody tr th:only-of-type {\n",
       "        vertical-align: middle;\n",
       "    }\n",
       "\n",
       "    .dataframe tbody tr th {\n",
       "        vertical-align: top;\n",
       "    }\n",
       "\n",
       "    .dataframe thead th {\n",
       "        text-align: right;\n",
       "    }\n",
       "</style>\n",
       "<table border=\"1\" class=\"dataframe\">\n",
       "  <thead>\n",
       "    <tr style=\"text-align: right;\">\n",
       "      <th></th>\n",
       "      <th>avg_dist</th>\n",
       "      <th>avg_rating_by_driver</th>\n",
       "      <th>avg_rating_of_driver</th>\n",
       "      <th>avg_surge</th>\n",
       "      <th>city</th>\n",
       "      <th>last_trip_date</th>\n",
       "      <th>phone</th>\n",
       "      <th>signup_date</th>\n",
       "      <th>surge_pct</th>\n",
       "      <th>trips_in_first_30_days</th>\n",
       "      <th>luxury_car_user</th>\n",
       "      <th>weekday_pct</th>\n",
       "    </tr>\n",
       "  </thead>\n",
       "  <tbody>\n",
       "    <tr>\n",
       "      <th>0</th>\n",
       "      <td>3.67</td>\n",
       "      <td>5.0</td>\n",
       "      <td>4.7</td>\n",
       "      <td>1.10</td>\n",
       "      <td>King's Landing</td>\n",
       "      <td>2014-06-17</td>\n",
       "      <td>iPhone</td>\n",
       "      <td>2014-01-25</td>\n",
       "      <td>15.4</td>\n",
       "      <td>4</td>\n",
       "      <td>True</td>\n",
       "      <td>46.2</td>\n",
       "    </tr>\n",
       "    <tr>\n",
       "      <th>1</th>\n",
       "      <td>8.26</td>\n",
       "      <td>5.0</td>\n",
       "      <td>5.0</td>\n",
       "      <td>1.00</td>\n",
       "      <td>Astapor</td>\n",
       "      <td>2014-05-05</td>\n",
       "      <td>Android</td>\n",
       "      <td>2014-01-29</td>\n",
       "      <td>0.0</td>\n",
       "      <td>0</td>\n",
       "      <td>False</td>\n",
       "      <td>50.0</td>\n",
       "    </tr>\n",
       "    <tr>\n",
       "      <th>2</th>\n",
       "      <td>0.77</td>\n",
       "      <td>5.0</td>\n",
       "      <td>4.3</td>\n",
       "      <td>1.00</td>\n",
       "      <td>Astapor</td>\n",
       "      <td>2014-01-07</td>\n",
       "      <td>iPhone</td>\n",
       "      <td>2014-01-06</td>\n",
       "      <td>0.0</td>\n",
       "      <td>3</td>\n",
       "      <td>False</td>\n",
       "      <td>100.0</td>\n",
       "    </tr>\n",
       "    <tr>\n",
       "      <th>3</th>\n",
       "      <td>2.36</td>\n",
       "      <td>4.9</td>\n",
       "      <td>4.6</td>\n",
       "      <td>1.14</td>\n",
       "      <td>King's Landing</td>\n",
       "      <td>2014-06-29</td>\n",
       "      <td>iPhone</td>\n",
       "      <td>2014-01-10</td>\n",
       "      <td>20.0</td>\n",
       "      <td>9</td>\n",
       "      <td>True</td>\n",
       "      <td>80.0</td>\n",
       "    </tr>\n",
       "    <tr>\n",
       "      <th>4</th>\n",
       "      <td>3.13</td>\n",
       "      <td>4.9</td>\n",
       "      <td>4.4</td>\n",
       "      <td>1.19</td>\n",
       "      <td>Winterfell</td>\n",
       "      <td>2014-03-15</td>\n",
       "      <td>Android</td>\n",
       "      <td>2014-01-27</td>\n",
       "      <td>11.8</td>\n",
       "      <td>14</td>\n",
       "      <td>False</td>\n",
       "      <td>82.4</td>\n",
       "    </tr>\n",
       "  </tbody>\n",
       "</table>\n",
       "</div>"
      ],
      "text/plain": [
       "   avg_dist  avg_rating_by_driver  avg_rating_of_driver  avg_surge  \\\n",
       "0      3.67                   5.0                   4.7       1.10   \n",
       "1      8.26                   5.0                   5.0       1.00   \n",
       "2      0.77                   5.0                   4.3       1.00   \n",
       "3      2.36                   4.9                   4.6       1.14   \n",
       "4      3.13                   4.9                   4.4       1.19   \n",
       "\n",
       "             city last_trip_date    phone signup_date  surge_pct  \\\n",
       "0  King's Landing     2014-06-17   iPhone  2014-01-25       15.4   \n",
       "1         Astapor     2014-05-05  Android  2014-01-29        0.0   \n",
       "2         Astapor     2014-01-07   iPhone  2014-01-06        0.0   \n",
       "3  King's Landing     2014-06-29   iPhone  2014-01-10       20.0   \n",
       "4      Winterfell     2014-03-15  Android  2014-01-27       11.8   \n",
       "\n",
       "   trips_in_first_30_days  luxury_car_user  weekday_pct  \n",
       "0                       4             True         46.2  \n",
       "1                       0            False         50.0  \n",
       "2                       3            False        100.0  \n",
       "3                       9             True         80.0  \n",
       "4                      14            False         82.4  "
      ]
     },
     "execution_count": 5,
     "metadata": {},
     "output_type": "execute_result"
    }
   ],
   "source": [
    "df = pd.read_csv('churn.csv')\n",
    "df.head()"
   ]
  },
  {
   "cell_type": "markdown",
   "id": "05d2625d-3e5e-45fd-92ec-7fe9ac4b78ba",
   "metadata": {},
   "source": [
    "#### Проверяю пропущенные значения и тип данных\n"
   ]
  },
  {
   "cell_type": "code",
   "execution_count": 20,
   "id": "2045d1e5-17ef-4eaa-b75b-9c28c55bbdb6",
   "metadata": {},
   "outputs": [
    {
     "data": {
      "text/plain": [
       "avg_dist                     0\n",
       "avg_rating_by_driver       201\n",
       "avg_rating_of_driver      8122\n",
       "avg_surge                    0\n",
       "city                         0\n",
       "last_trip_date               0\n",
       "phone                      396\n",
       "signup_date                  0\n",
       "surge_pct                    0\n",
       "trips_in_first_30_days       0\n",
       "luxury_car_user              0\n",
       "weekday_pct                  0\n",
       "dtype: int64"
      ]
     },
     "execution_count": 20,
     "metadata": {},
     "output_type": "execute_result"
    }
   ],
   "source": [
    "df.isna().sum()"
   ]
  },
  {
   "cell_type": "code",
   "execution_count": 21,
   "id": "4c7c0fe0-b9e9-437c-ba2a-d71e628e9eae",
   "metadata": {},
   "outputs": [
    {
     "data": {
      "text/plain": [
       "avg_dist                         float64\n",
       "avg_rating_by_driver             float64\n",
       "avg_rating_of_driver             float64\n",
       "avg_surge                        float64\n",
       "city                              object\n",
       "last_trip_date            datetime64[ns]\n",
       "phone                             object\n",
       "signup_date               datetime64[ns]\n",
       "surge_pct                        float64\n",
       "trips_in_first_30_days             int64\n",
       "luxury_car_user                     bool\n",
       "weekday_pct                      float64\n",
       "dtype: object"
      ]
     },
     "execution_count": 21,
     "metadata": {},
     "output_type": "execute_result"
    }
   ],
   "source": [
    "df.dtypes"
   ]
  },
  {
   "cell_type": "markdown",
   "id": "eddcb71a-dffc-4a67-83db-c8011938b5cd",
   "metadata": {},
   "source": [
    "#### Колонки last_trip_date и signup_date имеют тип object, поэтому необходимо перевести их в формат даты"
   ]
  },
  {
   "cell_type": "code",
   "execution_count": 13,
   "id": "6a03b814-e7fd-4f2d-80cf-aef702e6f81d",
   "metadata": {},
   "outputs": [],
   "source": [
    "df['last_trip_date'] = pd.to_datetime(df.last_trip_date)\n",
    "df['signup_date'] = pd.to_datetime(df.signup_date)"
   ]
  },
  {
   "cell_type": "code",
   "execution_count": 14,
   "id": "2fb2c289-23fc-43b5-8ebd-918b09ebb9eb",
   "metadata": {},
   "outputs": [
    {
     "data": {
      "text/plain": [
       "avg_dist                         float64\n",
       "avg_rating_by_driver             float64\n",
       "avg_rating_of_driver             float64\n",
       "avg_surge                        float64\n",
       "city                              object\n",
       "last_trip_date            datetime64[ns]\n",
       "phone                             object\n",
       "signup_date               datetime64[ns]\n",
       "surge_pct                        float64\n",
       "trips_in_first_30_days             int64\n",
       "luxury_car_user                     bool\n",
       "weekday_pct                      float64\n",
       "dtype: object"
      ]
     },
     "execution_count": 14,
     "metadata": {},
     "output_type": "execute_result"
    }
   ],
   "source": [
    "df.dtypes"
   ]
  },
  {
   "cell_type": "code",
   "execution_count": 18,
   "id": "8a04d0ef-aa00-4663-b0f0-7a4cb400470c",
   "metadata": {},
   "outputs": [
    {
     "data": {
      "text/html": [
       "<div>\n",
       "<style scoped>\n",
       "    .dataframe tbody tr th:only-of-type {\n",
       "        vertical-align: middle;\n",
       "    }\n",
       "\n",
       "    .dataframe tbody tr th {\n",
       "        vertical-align: top;\n",
       "    }\n",
       "\n",
       "    .dataframe thead th {\n",
       "        text-align: right;\n",
       "    }\n",
       "</style>\n",
       "<table border=\"1\" class=\"dataframe\">\n",
       "  <thead>\n",
       "    <tr style=\"text-align: right;\">\n",
       "      <th></th>\n",
       "      <th>city</th>\n",
       "      <th>phone</th>\n",
       "    </tr>\n",
       "  </thead>\n",
       "  <tbody>\n",
       "    <tr>\n",
       "      <th>count</th>\n",
       "      <td>50000</td>\n",
       "      <td>49604</td>\n",
       "    </tr>\n",
       "    <tr>\n",
       "      <th>unique</th>\n",
       "      <td>3</td>\n",
       "      <td>2</td>\n",
       "    </tr>\n",
       "    <tr>\n",
       "      <th>top</th>\n",
       "      <td>Winterfell</td>\n",
       "      <td>iPhone</td>\n",
       "    </tr>\n",
       "    <tr>\n",
       "      <th>freq</th>\n",
       "      <td>23336</td>\n",
       "      <td>34582</td>\n",
       "    </tr>\n",
       "  </tbody>\n",
       "</table>\n",
       "</div>"
      ],
      "text/plain": [
       "              city   phone\n",
       "count        50000   49604\n",
       "unique           3       2\n",
       "top     Winterfell  iPhone\n",
       "freq         23336   34582"
      ]
     },
     "execution_count": 18,
     "metadata": {},
     "output_type": "execute_result"
    }
   ],
   "source": [
    "df.describe(include = 'object')"
   ]
  },
  {
   "cell_type": "code",
   "execution_count": 19,
   "id": "8f32a420-c05d-48bf-b47d-2133c787bcd1",
   "metadata": {},
   "outputs": [
    {
     "name": "stderr",
     "output_type": "stream",
     "text": [
      "/tmp/ipykernel_76/515801629.py:1: FutureWarning: Treating datetime data as categorical rather than numeric in `.describe` is deprecated and will be removed in a future version of pandas. Specify `datetime_is_numeric=True` to silence this warning and adopt the future behavior now.\n",
      "  df.describe(include = 'datetime')\n"
     ]
    },
    {
     "data": {
      "text/html": [
       "<div>\n",
       "<style scoped>\n",
       "    .dataframe tbody tr th:only-of-type {\n",
       "        vertical-align: middle;\n",
       "    }\n",
       "\n",
       "    .dataframe tbody tr th {\n",
       "        vertical-align: top;\n",
       "    }\n",
       "\n",
       "    .dataframe thead th {\n",
       "        text-align: right;\n",
       "    }\n",
       "</style>\n",
       "<table border=\"1\" class=\"dataframe\">\n",
       "  <thead>\n",
       "    <tr style=\"text-align: right;\">\n",
       "      <th></th>\n",
       "      <th>last_trip_date</th>\n",
       "      <th>signup_date</th>\n",
       "    </tr>\n",
       "  </thead>\n",
       "  <tbody>\n",
       "    <tr>\n",
       "      <th>count</th>\n",
       "      <td>50000</td>\n",
       "      <td>50000</td>\n",
       "    </tr>\n",
       "    <tr>\n",
       "      <th>unique</th>\n",
       "      <td>182</td>\n",
       "      <td>31</td>\n",
       "    </tr>\n",
       "    <tr>\n",
       "      <th>top</th>\n",
       "      <td>2014-06-29 00:00:00</td>\n",
       "      <td>2014-01-18 00:00:00</td>\n",
       "    </tr>\n",
       "    <tr>\n",
       "      <th>freq</th>\n",
       "      <td>2036</td>\n",
       "      <td>2948</td>\n",
       "    </tr>\n",
       "    <tr>\n",
       "      <th>first</th>\n",
       "      <td>2014-01-01 00:00:00</td>\n",
       "      <td>2014-01-01 00:00:00</td>\n",
       "    </tr>\n",
       "    <tr>\n",
       "      <th>last</th>\n",
       "      <td>2014-07-01 00:00:00</td>\n",
       "      <td>2014-01-31 00:00:00</td>\n",
       "    </tr>\n",
       "  </tbody>\n",
       "</table>\n",
       "</div>"
      ],
      "text/plain": [
       "             last_trip_date          signup_date\n",
       "count                 50000                50000\n",
       "unique                  182                   31\n",
       "top     2014-06-29 00:00:00  2014-01-18 00:00:00\n",
       "freq                   2036                 2948\n",
       "first   2014-01-01 00:00:00  2014-01-01 00:00:00\n",
       "last    2014-07-01 00:00:00  2014-01-31 00:00:00"
      ]
     },
     "execution_count": 19,
     "metadata": {},
     "output_type": "execute_result"
    }
   ],
   "source": [
    "df.describe(include = 'datetime')"
   ]
  },
  {
   "cell_type": "markdown",
   "id": "f3281a7e-dd1f-4232-9e9c-16df1c78bf11",
   "metadata": {},
   "source": [
    "### Чтобы проанализировать отток водителей (churn), необходимо сначала определиться каких водитилей считать \"отвалившимися\". В качестве допущения предположим, что клиент будет считаться \"отвалившимся\", если он не пользовался нашим приложением от 30 и более дней.  "
   ]
  },
  {
   "cell_type": "code",
   "execution_count": 30,
   "id": "2a2f7555-03f5-44ee-951e-edd67f6ef5c4",
   "metadata": {},
   "outputs": [
    {
     "data": {
      "text/plain": [
       "Timestamp('2014-07-01 00:00:00')"
      ]
     },
     "execution_count": 30,
     "metadata": {},
     "output_type": "execute_result"
    }
   ],
   "source": [
    "df.last_trip_date.max()"
   ]
  },
  {
   "cell_type": "markdown",
   "id": "028d6b39-9471-4deb-8b71-ea0e69473432",
   "metadata": {},
   "source": [
    "Создаю новую колонку, которая показывает количество дней, которые прошли с момента последней поездки водителя"
   ]
  },
  {
   "cell_type": "code",
   "execution_count": 31,
   "id": "bf918c01-eb8d-4855-b70c-84ab3da5b1fb",
   "metadata": {},
   "outputs": [],
   "source": [
    "df['days_since_last_trip'] = df.last_trip_date.max() - df.last_trip_date"
   ]
  },
  {
   "cell_type": "code",
   "execution_count": 32,
   "id": "5c13227c-a700-4600-9d00-68de2c7f002d",
   "metadata": {},
   "outputs": [
    {
     "data": {
      "text/plain": [
       "0        14 days\n",
       "1        57 days\n",
       "2       175 days\n",
       "3         2 days\n",
       "4       108 days\n",
       "          ...   \n",
       "49995    26 days\n",
       "49996   157 days\n",
       "49997    40 days\n",
       "49998   167 days\n",
       "49999    72 days\n",
       "Name: days_since_last_trip, Length: 50000, dtype: timedelta64[ns]"
      ]
     },
     "execution_count": 32,
     "metadata": {},
     "output_type": "execute_result"
    }
   ],
   "source": [
    "df.days_since_last_trip"
   ]
  },
  {
   "cell_type": "markdown",
   "id": "44b34a19-73be-4f2d-bfb0-b60a831c7219",
   "metadata": {},
   "source": [
    "Преобразую формат timedelta в int"
   ]
  },
  {
   "cell_type": "code",
   "execution_count": 33,
   "id": "e7247fa5-9d00-4390-8e85-1847cfa99e5b",
   "metadata": {},
   "outputs": [],
   "source": [
    "df['days_since_last_trip'] = df['days_since_last_trip'].dt.days"
   ]
  },
  {
   "cell_type": "markdown",
   "id": "9210eaf7-8880-4cc8-abeb-33d98918065b",
   "metadata": {},
   "source": [
    "Создаю новую колонку churn, применив функцию lambda x, которая показывает, к какой группе относится тот или иной водитель - churn или not churn"
   ]
  },
  {
   "cell_type": "code",
   "execution_count": 38,
   "id": "2d7b8e08-81dd-4a8c-8b9d-b22d7b394d7a",
   "metadata": {},
   "outputs": [],
   "source": [
    "df['churn'] = df.days_since_last_trip.apply(lambda x: 'churn' if x>30 else 'not_churn')"
   ]
  },
  {
   "cell_type": "code",
   "execution_count": 39,
   "id": "70c824d3-afa6-4b2e-91d3-06286c86b1a9",
   "metadata": {},
   "outputs": [
    {
     "data": {
      "text/plain": [
       "0        not_churn\n",
       "1            churn\n",
       "2            churn\n",
       "3        not_churn\n",
       "4            churn\n",
       "           ...    \n",
       "49995    not_churn\n",
       "49996        churn\n",
       "49997        churn\n",
       "49998        churn\n",
       "49999        churn\n",
       "Name: churn, Length: 50000, dtype: object"
      ]
     },
     "execution_count": 39,
     "metadata": {},
     "output_type": "execute_result"
    }
   ],
   "source": [
    "df.churn"
   ]
  },
  {
   "cell_type": "markdown",
   "id": "0206b444-3a1c-4a77-808d-e414b13900db",
   "metadata": {},
   "source": [
    "Смотрю на распределение показателей"
   ]
  },
  {
   "cell_type": "code",
   "execution_count": 45,
   "id": "9680599c-5422-4102-90b4-04412f30064b",
   "metadata": {},
   "outputs": [
    {
     "data": {
      "text/plain": [
       "churn        62.4\n",
       "not_churn    37.6\n",
       "Name: churn, dtype: float64"
      ]
     },
     "execution_count": 45,
     "metadata": {},
     "output_type": "execute_result"
    }
   ],
   "source": [
    "df.churn.value_counts(normalize=True).mul(100).round(1)"
   ]
  },
  {
   "cell_type": "markdown",
   "id": "bea7c5cc-14b4-4e25-b4c0-1803d99fa99b",
   "metadata": {},
   "source": [
    "#### 1. Гипотеза 1: Посмотреть на распределение оттока водителей в разрезе разных городов. Нулевая гипотеза (Н0) - различий в распределении нет."
   ]
  },
  {
   "cell_type": "code",
   "execution_count": 47,
   "id": "2c67cd5a-1882-4313-b364-297103710851",
   "metadata": {},
   "outputs": [
    {
     "name": "stderr",
     "output_type": "stream",
     "text": [
      "/nfs/env/lib/python3.8/site-packages/seaborn/_decorators.py:36: FutureWarning: Pass the following variable as a keyword arg: x. From version 0.12, the only valid positional argument will be `data`, and passing other arguments without an explicit keyword will result in an error or misinterpretation.\n",
      "  warnings.warn(\n"
     ]
    },
    {
     "data": {
      "text/plain": [
       "<AxesSubplot:xlabel='churn', ylabel='count'>"
      ]
     },
     "execution_count": 47,
     "metadata": {},
     "output_type": "execute_result"
    },
    {
     "data": {
      "image/png": "[encoded data removed]",
      "text/plain": [
       "<Figure size 432x288 with 1 Axes>"
      ]
     },
     "metadata": {
      "needs_background": "light"
     },
     "output_type": "display_data"
    }
   ],
   "source": [
    "sns.countplot('churn', data=df)"
   ]
  },
  {
   "cell_type": "code",
   "execution_count": 48,
   "id": "63ff310b-4cab-475b-bcc8-7da8d7a2a4e8",
   "metadata": {},
   "outputs": [
    {
     "name": "stderr",
     "output_type": "stream",
     "text": [
      "/nfs/env/lib/python3.8/site-packages/seaborn/_decorators.py:36: FutureWarning: Pass the following variable as a keyword arg: x. From version 0.12, the only valid positional argument will be `data`, and passing other arguments without an explicit keyword will result in an error or misinterpretation.\n",
      "  warnings.warn(\n"
     ]
    },
    {
     "data": {
      "text/plain": [
       "<AxesSubplot:xlabel='city', ylabel='count'>"
      ]
     },
     "execution_count": 48,
     "metadata": {},
     "output_type": "execute_result"
    },
    {
     "data": {
      "image/png": "[encoded data removed]",
      "text/plain": [
       "<Figure size 432x288 with 1 Axes>"
      ]
     },
     "metadata": {
      "needs_background": "light"
     },
     "output_type": "display_data"
    }
   ],
   "source": [
    "sns.countplot('city', data=df)"
   ]
  },
  {
   "cell_type": "markdown",
   "id": "1de0edae-ed6a-4c7f-8e3c-b89dc5b52071",
   "metadata": {},
   "source": [
    "Поскольку переменные churn и city являются категориальными, то для проверки нулевой гипотезы я буду использовать хи-квадрат"
   ]
  },
  {
   "cell_type": "markdown",
   "id": "6fc789ab-0664-4e62-a6d9-bb165cdfc05e",
   "metadata": {},
   "source": [
    "       "
   ]
  },
  {
   "cell_type": "markdown",
   "id": "fe1912f2-3a22-477f-810a-07f33f5144db",
   "metadata": {},
   "source": [
    "Создаю таблицу сопряженности tab с помощью функции pd.crosstab, для выражения связи между двумя категориальными переменными"
   ]
  },
  {
   "cell_type": "code",
   "execution_count": 49,
   "id": "58711b0a-5e22-4284-b45f-26981b781ecf",
   "metadata": {},
   "outputs": [
    {
     "name": "stdout",
     "output_type": "stream",
     "text": [
      "city       Astapor  King's Landing  Winterfell\n",
      "churn                                         \n",
      "churn        12306            3767       15123\n",
      "not_churn     4228            6363        8213\n"
     ]
    }
   ],
   "source": [
    "tab = pd.crosstab(df.churn, df.city)\n",
    "print(tab)"
   ]
  },
  {
   "cell_type": "markdown",
   "id": "6dfd92f2-a1b4-4e4d-9c0b-5d3544d6c8d2",
   "metadata": {},
   "source": [
    "Критерий хи-квадрат"
   ]
  },
  {
   "cell_type": "code",
   "execution_count": 53,
   "id": "e6433b5f-f958-4183-a681-cce7f563b255",
   "metadata": {},
   "outputs": [
    {
     "name": "stdout",
     "output_type": "stream",
     "text": [
      "0.0\n"
     ]
    }
   ],
   "source": [
    "stat, p, dof, expected = chi2_contingency(tab)\n",
    "\n",
    "print(p)"
   ]
  },
  {
   "cell_type": "markdown",
   "id": "8bb50067-6494-40a2-bafc-3db966cc419f",
   "metadata": {},
   "source": [
    "#### ВЫВОД: нулевая гипотеза отклоняется, т.к pvalue<0.05, следовательно различия в распределении оттока водителей в разрезе городов есть"
   ]
  },
  {
   "cell_type": "markdown",
   "id": "c0d4e776-dafd-4ba7-b9f9-623c00b25c4e",
   "metadata": {},
   "source": [
    "#### 2. Гипотеза 2: Посмотреть на распределение активности в первые 30 дней с момента регистрации (trips_in_first_30_days) между водителями из разных городов (city). Нулевая гипотеза (Н0) - различий в активности нет."
   ]
  },
  {
   "cell_type": "code",
   "execution_count": 55,
   "id": "4d016a2d-9243-4910-a167-fa88b31173ea",
   "metadata": {},
   "outputs": [
    {
     "name": "stderr",
     "output_type": "stream",
     "text": [
      "/nfs/env/lib/python3.8/site-packages/seaborn/distributions.py:2557: FutureWarning: `distplot` is a deprecated function and will be removed in a future version. Please adapt your code to use either `displot` (a figure-level function with similar flexibility) or `histplot` (an axes-level function for histograms).\n",
      "  warnings.warn(msg, FutureWarning)\n"
     ]
    },
    {
     "data": {
      "text/plain": [
       "<AxesSubplot:xlabel='trips_in_first_30_days', ylabel='Density'>"
      ]
     },
     "execution_count": 55,
     "metadata": {},
     "output_type": "execute_result"
    },
    {
     "data": {
      "image/png": "[encoded data removed]",
      "text/plain": [
       "<Figure size 432x288 with 1 Axes>"
      ]
     },
     "metadata": {
      "needs_background": "light"
     },
     "output_type": "display_data"
    }
   ],
   "source": [
    "sns.distplot(df.trips_in_first_30_days)"
   ]
  },
  {
   "cell_type": "markdown",
   "id": "f39dd127-2a4d-4a34-ad8b-95409382d841",
   "metadata": {},
   "source": [
    "Проверряем нормальность распределения переменной trips_in_first_30_days в разрезе городов"
   ]
  },
  {
   "cell_type": "code",
   "execution_count": 69,
   "id": "4b73681a-e93a-4f08-b017-33bcf4ef949a",
   "metadata": {},
   "outputs": [],
   "source": [
    "ast = df[df.city == 'Astapor'].trips_in_first_30_days\n",
    "king = df[df.city == \"King's Landing\"].trips_in_first_30_days\n",
    "winter = df[df.city == 'Winterfell'].trips_in_first_30_days"
   ]
  },
  {
   "cell_type": "markdown",
   "id": "c4a31a10-aae3-4c71-b110-c2a7d2c8d69b",
   "metadata": {},
   "source": [
    "Тест Шапиро-Уиалка для проверки нормальности распределения переменной trips_in_first_30_days"
   ]
  },
  {
   "cell_type": "code",
   "execution_count": 70,
   "id": "8b0ccc19-6c8a-4526-a883-e9fde70bdb5c",
   "metadata": {},
   "outputs": [
    {
     "name": "stdout",
     "output_type": "stream",
     "text": [
      "ShapiroResult(statistic=0.5414707660675049, pvalue=4.203895392974451e-45)\n",
      "ShapiroResult(statistic=0.6132159233093262, pvalue=1.6829594556541053e-42)\n",
      "ShapiroResult(statistic=0.5455795526504517, pvalue=7.006492321624085e-45)\n"
     ]
    }
   ],
   "source": [
    "print(shapiro(ast.sample(1000, random_state=17)))\n",
    "print(shapiro(king.sample(1000, random_state=17)))\n",
    "print(shapiro(winter.sample(1000, random_state=17)))"
   ]
  },
  {
   "cell_type": "markdown",
   "id": "21cbbb4a-cb37-487a-8013-1a9586de4df9",
   "metadata": {},
   "source": [
    "#### ВЫВОД: во всех трех случаях, pvalue очень маленькое, следовательно можно отклонять Н0 гипотезу о нормальном распределении. Поэтому исплльзуем непараметрический аналог ANOVA - КРИТЕРИЙ КРАСКЕЛА-УОЛЛИСА"
   ]
  },
  {
   "cell_type": "markdown",
   "id": "ad2e3e51-dbf7-4bf1-9087-9d8a54a43724",
   "metadata": {},
   "source": [
    "#### 3. Есть ли разница в активности в первые 30 дней с момента регистрации между водителями из разных городов? (city, trips_in_first_30_days) Обнаружены ли статистически значимые различия?"
   ]
  },
  {
   "cell_type": "markdown",
   "id": "045f3cd6-6ff6-4ea8-a8b2-bd11c4ba43a5",
   "metadata": {},
   "source": [
    "Критерий Краскела-Уоллиса"
   ]
  },
  {
   "cell_type": "code",
   "execution_count": 72,
   "id": "a3cdb4cd-42e8-4192-9334-338b22d709bc",
   "metadata": {},
   "outputs": [
    {
     "name": "stdout",
     "output_type": "stream",
     "text": [
      "KruskalResult(statistic=221.32105325317454, pvalue=8.724567791938856e-49)\n"
     ]
    }
   ],
   "source": [
    "kr_res = kruskal(ast, king, winter)\n",
    "print(kr_res)"
   ]
  },
  {
   "cell_type": "markdown",
   "id": "5b0a858a-0464-4fc5-bae7-6357d522b816",
   "metadata": {},
   "source": [
    "#### p_value < 0.05, следовательно обнаружены стат.значимые различия. С помощью posthoc_dunn можно выяснить где конкретно существуют различия"
   ]
  },
  {
   "cell_type": "code",
   "execution_count": 76,
   "id": "79553267-d9a8-4b16-9c8b-44300b6c539d",
   "metadata": {},
   "outputs": [
    {
     "data": {
      "text/html": [
       "<div>\n",
       "<style scoped>\n",
       "    .dataframe tbody tr th:only-of-type {\n",
       "        vertical-align: middle;\n",
       "    }\n",
       "\n",
       "    .dataframe tbody tr th {\n",
       "        vertical-align: top;\n",
       "    }\n",
       "\n",
       "    .dataframe thead th {\n",
       "        text-align: right;\n",
       "    }\n",
       "</style>\n",
       "<table border=\"1\" class=\"dataframe\">\n",
       "  <thead>\n",
       "    <tr style=\"text-align: right;\">\n",
       "      <th></th>\n",
       "      <th>1</th>\n",
       "      <th>2</th>\n",
       "      <th>3</th>\n",
       "    </tr>\n",
       "  </thead>\n",
       "  <tbody>\n",
       "    <tr>\n",
       "      <th>1</th>\n",
       "      <td>1.000000e+00</td>\n",
       "      <td>1.313616e-09</td>\n",
       "      <td>2.448501e-49</td>\n",
       "    </tr>\n",
       "    <tr>\n",
       "      <th>2</th>\n",
       "      <td>1.313616e-09</td>\n",
       "      <td>1.000000e+00</td>\n",
       "      <td>8.440212e-10</td>\n",
       "    </tr>\n",
       "    <tr>\n",
       "      <th>3</th>\n",
       "      <td>2.448501e-49</td>\n",
       "      <td>8.440212e-10</td>\n",
       "      <td>1.000000e+00</td>\n",
       "    </tr>\n",
       "  </tbody>\n",
       "</table>\n",
       "</div>"
      ],
      "text/plain": [
       "              1             2             3\n",
       "1  1.000000e+00  1.313616e-09  2.448501e-49\n",
       "2  1.313616e-09  1.000000e+00  8.440212e-10\n",
       "3  2.448501e-49  8.440212e-10  1.000000e+00"
      ]
     },
     "execution_count": 76,
     "metadata": {},
     "output_type": "execute_result"
    }
   ],
   "source": [
    "dat = [ast, king, winter]\n",
    "sp.posthoc_dunn(dat, p_adjust = 'holm')"
   ]
  },
  {
   "cell_type": "markdown",
   "id": "b96235c0-483f-415e-8cf9-247e1837f8ea",
   "metadata": {},
   "source": [
    "#### ВЫВОД: все три группы значимо друг от друга отличаются"
   ]
  },
  {
   "cell_type": "markdown",
   "id": "15c45ab4-6f2d-4cdc-8a59-fa545b56d009",
   "metadata": {},
   "source": [
    "#### 4. Может ли отток быть связан с активностью в первые 30 дней после регистрации? (churn, trips_in_first_30_days)"
   ]
  },
  {
   "cell_type": "code",
   "execution_count": 77,
   "id": "f03182f9-f451-40c6-95e3-474a522ac50e",
   "metadata": {},
   "outputs": [],
   "source": [
    "# переменная churn характерезует активность отвалившихся пользователей в течение первых 30 дней после регистрации\n",
    "churn = df[df.churn == 'churn'].trips_in_first_30_days\n",
    "\n",
    "# переменная not churn - тоже самое, но для тех пользователей, которые остались\n",
    "not_churn = df[df.churn == 'not_churn'].trips_in_first_30_days"
   ]
  },
  {
   "cell_type": "code",
   "execution_count": 79,
   "id": "61d9e27c-c285-46c2-b6c8-e34e1d864bea",
   "metadata": {},
   "outputs": [
    {
     "name": "stderr",
     "output_type": "stream",
     "text": [
      "/nfs/env/lib/python3.8/site-packages/seaborn/distributions.py:2557: FutureWarning: `distplot` is a deprecated function and will be removed in a future version. Please adapt your code to use either `displot` (a figure-level function with similar flexibility) or `histplot` (an axes-level function for histograms).\n",
      "  warnings.warn(msg, FutureWarning)\n"
     ]
    },
    {
     "data": {
      "text/plain": [
       "<AxesSubplot:xlabel='trips_in_first_30_days', ylabel='Density'>"
      ]
     },
     "execution_count": 79,
     "metadata": {},
     "output_type": "execute_result"
    },
    {
     "data": {
      "image/png": "[encoded data removed]",
      "text/plain": [
       "<Figure size 432x288 with 1 Axes>"
      ]
     },
     "metadata": {
      "needs_background": "light"
     },
     "output_type": "display_data"
    }
   ],
   "source": [
    "sns.distplot(churn)"
   ]
  },
  {
   "cell_type": "code",
   "execution_count": 80,
   "id": "66312aea-7a53-43bc-a916-236146bc61f1",
   "metadata": {},
   "outputs": [
    {
     "name": "stderr",
     "output_type": "stream",
     "text": [
      "/nfs/env/lib/python3.8/site-packages/seaborn/distributions.py:2557: FutureWarning: `distplot` is a deprecated function and will be removed in a future version. Please adapt your code to use either `displot` (a figure-level function with similar flexibility) or `histplot` (an axes-level function for histograms).\n",
      "  warnings.warn(msg, FutureWarning)\n"
     ]
    },
    {
     "data": {
      "text/plain": [
       "<AxesSubplot:xlabel='trips_in_first_30_days', ylabel='Density'>"
      ]
     },
     "execution_count": 80,
     "metadata": {},
     "output_type": "execute_result"
    },
    {
     "data": {
      "image/png": "[encoded data removed]",
      "text/plain": [
       "<Figure size 432x288 with 1 Axes>"
      ]
     },
     "metadata": {
      "needs_background": "light"
     },
     "output_type": "display_data"
    }
   ],
   "source": [
    "sns.distplot(not_churn)"
   ]
  },
  {
   "cell_type": "markdown",
   "id": "28a629c1-c406-4d8f-a147-a1ca0b27330e",
   "metadata": {},
   "source": [
    "Видно, что оба распределения переменной trips_in_first_30_days не являются нормальными, следовательно для проверки гипотезы использую U-критерий Манна-Уитни"
   ]
  },
  {
   "cell_type": "code",
   "execution_count": 81,
   "id": "c1f80569-20d4-4ea9-8648-278dfddb1d51",
   "metadata": {},
   "outputs": [
    {
     "data": {
      "text/plain": [
       "MannwhitneyuResult(statistic=234767452.0, pvalue=0.0)"
      ]
     },
     "execution_count": 81,
     "metadata": {},
     "output_type": "execute_result"
    }
   ],
   "source": [
    "mannwhitneyu(churn, not_churn)"
   ]
  },
  {
   "cell_type": "markdown",
   "id": "24591bc6-91e2-4ba4-b0a5-43d0d0abfbd5",
   "metadata": {},
   "source": [
    "pvalue < 0.05, следовательно результат оказался стат.значимым. Выясним какого именно характера различия мы имеем"
   ]
  },
  {
   "cell_type": "code",
   "execution_count": 82,
   "id": "7f86552b-8831-4505-aac1-39abcf2627e1",
   "metadata": {},
   "outputs": [
    {
     "data": {
      "text/plain": [
       "<AxesSubplot:xlabel='churn', ylabel='trips_in_first_30_days'>"
      ]
     },
     "execution_count": 82,
     "metadata": {},
     "output_type": "execute_result"
    },
    {
     "data": {
      "image/png": "[encoded data removed]",
      "text/plain": [
       "<Figure size 432x288 with 1 Axes>"
      ]
     },
     "metadata": {
      "needs_background": "light"
     },
     "output_type": "display_data"
    }
   ],
   "source": [
    "sns.pointplot(x = 'churn', y = 'trips_in_first_30_days', data = df)"
   ]
  },
  {
   "cell_type": "markdown",
   "id": "231158e4-f621-4aad-9331-fca807cf06b1",
   "metadata": {},
   "source": [
    "#### ВЫВОД: Распределение переменной trips_in_first_30_days НЕ ЯВЛЯЕТСЯ НОРМАЛЬНЫМ, поэтому для проверки гипотезы я использую U-КРИТЕРИЙ МАННА-УИТНИ. Результат оказался статистически значим. Значит, значимые различия есть, ушедшие пользователи были менее активны."
   ]
  }
 ],
 "metadata": {
  "kernelspec": {
   "display_name": "Python 3 (ipykernel)",
   "language": "python",
   "name": "python3"
  },
  "language_info": {
   "codemirror_mode": {
    "name": "ipython",
    "version": 3
   },
   "file_extension": ".py",
   "mimetype": "text/x-python",
   "name": "python",
   "nbconvert_exporter": "python",
   "pygments_lexer": "ipython3",
   "version": "3.8.10"
  }
 },
 "nbformat": 4,
 "nbformat_minor": 5
}
