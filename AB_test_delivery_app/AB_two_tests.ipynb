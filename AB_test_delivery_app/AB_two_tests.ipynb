{
 "cells": [
  {
   "cell_type": "markdown",
   "id": "4d1bee60-d546-4a52-a375-557f1068948a",
   "metadata": {},
   "source": [
    "Импортирую библиотеки"
   ]
  },
  {
   "cell_type": "code",
   "execution_count": 1,
   "id": "149ff2be-153d-460b-a6c3-e4d5ebb6f2fd",
   "metadata": {},
   "outputs": [],
   "source": [
    "import pandas as pd\n",
    "import numpy as np\n",
    "from scipy import stats\n",
    "\n",
    "import statsmodels.api as sm\n",
    "import statsmodels.formula.api as smf\n",
    "from statsmodels.stats.api import anova_lm\n",
    "from statsmodels.stats.multicomp import (pairwise_tukeyhsd,\n",
    "                                         MultiComparison)\n",
    "\n",
    "import seaborn as sns \n",
    "import matplotlib.pyplot as plt\n",
    "sns.set(rc={'figure.figsize':(16,6)}, style=\"whitegrid\")"
   ]
  },
  {
   "cell_type": "markdown",
   "id": "d1a2e6d5-e941-4ffe-b384-ee72a1ef24a1",
   "metadata": {},
   "source": [
    "### Эксперимент №1:Тестирование разрешения фотографий товаров"
   ]
  },
  {
   "cell_type": "markdown",
   "id": "2ef6fc5a-4e0d-4082-a0a7-2cf1c869230a",
   "metadata": {},
   "source": [
    "Для решения данной задачи я воспользуюсь однофакторным дисперсионным анализом, так как по условиям на нашу зависимую переменную events влияет один фактор, а именно - разрешение фотографий товаров, при этом сравнивают три группы разрешений:\n",
    "\n",
    "* A – прямоугольные 16:9\n",
    "* B – квадратные\n",
    "* C – прямоугольные 12:4"
   ]
  },
  {
   "cell_type": "markdown",
   "id": "baf0672c-e11e-4030-87b3-7aa83a59500f",
   "metadata": {},
   "source": [
    "Подгружаю датасет, смотрю на данные, ищу пустые значения."
   ]
  },
  {
   "cell_type": "code",
   "execution_count": 2,
   "id": "77962126-c4e7-4541-a59d-d6e4104af3c6",
   "metadata": {},
   "outputs": [],
   "source": [
    "df_1 = pd.read_csv('5_task_1.csv')"
   ]
  },
  {
   "cell_type": "code",
   "execution_count": 12,
   "id": "910bb3ad-5dac-4c8f-8182-0c903a762bbc",
   "metadata": {},
   "outputs": [
    {
     "data": {
      "text/html": [
       "<div>\n",
       "<style scoped>\n",
       "    .dataframe tbody tr th:only-of-type {\n",
       "        vertical-align: middle;\n",
       "    }\n",
       "\n",
       "    .dataframe tbody tr th {\n",
       "        vertical-align: top;\n",
       "    }\n",
       "\n",
       "    .dataframe thead th {\n",
       "        text-align: right;\n",
       "    }\n",
       "</style>\n",
       "<table border=\"1\" class=\"dataframe\">\n",
       "  <thead>\n",
       "    <tr style=\"text-align: right;\">\n",
       "      <th></th>\n",
       "      <th>id</th>\n",
       "      <th>group</th>\n",
       "      <th>events</th>\n",
       "    </tr>\n",
       "  </thead>\n",
       "  <tbody>\n",
       "    <tr>\n",
       "      <th>0</th>\n",
       "      <td>16046</td>\n",
       "      <td>A</td>\n",
       "      <td>14</td>\n",
       "    </tr>\n",
       "    <tr>\n",
       "      <th>1</th>\n",
       "      <td>18712</td>\n",
       "      <td>A</td>\n",
       "      <td>41</td>\n",
       "    </tr>\n",
       "    <tr>\n",
       "      <th>2</th>\n",
       "      <td>3268</td>\n",
       "      <td>A</td>\n",
       "      <td>30</td>\n",
       "    </tr>\n",
       "    <tr>\n",
       "      <th>3</th>\n",
       "      <td>22633</td>\n",
       "      <td>A</td>\n",
       "      <td>37</td>\n",
       "    </tr>\n",
       "    <tr>\n",
       "      <th>4</th>\n",
       "      <td>28071</td>\n",
       "      <td>A</td>\n",
       "      <td>38</td>\n",
       "    </tr>\n",
       "  </tbody>\n",
       "</table>\n",
       "</div>"
      ],
      "text/plain": [
       "      id group  events\n",
       "0  16046     A      14\n",
       "1  18712     A      41\n",
       "2   3268     A      30\n",
       "3  22633     A      37\n",
       "4  28071     A      38"
      ]
     },
     "execution_count": 12,
     "metadata": {},
     "output_type": "execute_result"
    }
   ],
   "source": [
    "df_1.head()"
   ]
  },
  {
   "cell_type": "code",
   "execution_count": 4,
   "id": "53624eca-9d7a-41d8-a0b6-ed3ebc44994d",
   "metadata": {},
   "outputs": [
    {
     "data": {
      "text/plain": [
       "id         int64\n",
       "group     object\n",
       "events     int64\n",
       "dtype: object"
      ]
     },
     "execution_count": 4,
     "metadata": {},
     "output_type": "execute_result"
    }
   ],
   "source": [
    "df_1.dtypes"
   ]
  },
  {
   "cell_type": "code",
   "execution_count": 3,
   "id": "a808b4b6-02d3-49fc-95ab-e4bc6572f790",
   "metadata": {},
   "outputs": [
    {
     "data": {
      "text/plain": [
       "id        0\n",
       "group     0\n",
       "events    0\n",
       "dtype: int64"
      ]
     },
     "execution_count": 3,
     "metadata": {},
     "output_type": "execute_result"
    }
   ],
   "source": [
    "df_1.isna().sum()"
   ]
  },
  {
   "cell_type": "markdown",
   "id": "8d25c48c-e7cd-46e2-8e80-8eb054897bce",
   "metadata": {},
   "source": [
    "### 1. C помощью теста Левена проверяю являются ли дисперсии внутри групп одинаковыми (гомогенными). То есть это будет нулевой гипотезой Н0 для теста."
   ]
  },
  {
   "cell_type": "code",
   "execution_count": 21,
   "id": "61b64dea-a291-4b34-b667-f7c5e3755935",
   "metadata": {},
   "outputs": [],
   "source": [
    "# выделяю в отдельные переменные значения events для трех групп: A, B, C\n",
    "\n",
    "a_pc = df_1.query('group == \"A\"').events\n",
    "b_pc = df_1.query('group == \"B\"').events\n",
    "c_pc = df_1.query('group == \"C\"').events"
   ]
  },
  {
   "cell_type": "code",
   "execution_count": 45,
   "id": "2a403dab-6724-4e84-a1cf-9fea90f9e6bc",
   "metadata": {},
   "outputs": [
    {
     "data": {
      "text/plain": [
       "LeveneResult(statistic=2.2622596339318037, pvalue=0.1041327199523974)"
      ]
     },
     "execution_count": 45,
     "metadata": {},
     "output_type": "execute_result"
    }
   ],
   "source": [
    "# применяю тест Левена для сравнения дисперсий \n",
    "\n",
    "levene(a_pc, b_pc, c_pc)"
   ]
  },
  {
   "cell_type": "markdown",
   "id": "df18e5ea-a1c4-4b63-a23e-733060c287b9",
   "metadata": {},
   "source": [
    "#### ВЫВОД: Так как p_value > 0,05 мы не можем отклонить нулевую гипотезу о том, что дисперсии гомогенные"
   ]
  },
  {
   "cell_type": "markdown",
   "id": "29a08dbe-77ed-47ed-b7c3-60bee485b742",
   "metadata": {},
   "source": [
    "### 2. С помощью теста Шапиро - Уилка пытаюсь выяснить распределены ли данные нормально. Нулевая гипотеза (Н0) - данные распределены нормально. При этом использую метод sample (), так как тест плохо работает на больших выборках и может показать даже самые незначительные отклонения "
   ]
  },
  {
   "cell_type": "code",
   "execution_count": 46,
   "id": "7822c3c8-a019-4162-b6ce-904cfff0e1fb",
   "metadata": {},
   "outputs": [
    {
     "data": {
      "text/plain": [
       "ShapiroResult(statistic=0.9973153471946716, pvalue=0.09609563648700714)"
      ]
     },
     "execution_count": 46,
     "metadata": {},
     "output_type": "execute_result"
    }
   ],
   "source": [
    "# провожу тест для группы А\n",
    "\n",
    "shapiro(df_1.query('group == \"A\"').events.sample(1000, random_state=17))"
   ]
  },
  {
   "cell_type": "markdown",
   "id": "8749dd8b-7f48-4db6-983a-274b3d9f9071",
   "metadata": {},
   "source": [
    "#### Так как pvalue > 0.05, мы не можем отклонить нулевую гипотезу. Следовательно данные распределены нормально"
   ]
  },
  {
   "cell_type": "code",
   "execution_count": 47,
   "id": "dc1b86c8-b9e0-4b2e-80f9-13247d6a38d5",
   "metadata": {},
   "outputs": [
    {
     "data": {
      "text/plain": [
       "ShapiroResult(statistic=0.9980798363685608, pvalue=0.31768906116485596)"
      ]
     },
     "execution_count": 47,
     "metadata": {},
     "output_type": "execute_result"
    }
   ],
   "source": [
    "# провожу тест для группы В\n",
    "\n",
    "shapiro(df_1.query('group == \"B\"').events.sample(1000, random_state=17))"
   ]
  },
  {
   "cell_type": "markdown",
   "id": "493022db-ffad-4cde-aa36-44d6107f159e",
   "metadata": {},
   "source": [
    "#### Так как pvalue > 0.05, мы не можем отклонить нулевую гипотезу. Следовательно данные распределены нормально"
   ]
  },
  {
   "cell_type": "code",
   "execution_count": 48,
   "id": "2a0a2cff-7248-4bbd-badf-1a06782dbb41",
   "metadata": {},
   "outputs": [
    {
     "data": {
      "text/plain": [
       "ShapiroResult(statistic=0.9981185793876648, pvalue=0.3359004259109497)"
      ]
     },
     "execution_count": 48,
     "metadata": {},
     "output_type": "execute_result"
    }
   ],
   "source": [
    "# провожу тест для группы С\n",
    "\n",
    "shapiro(df_1.query('group == \"C\"').events.sample(1000, random_state=17))"
   ]
  },
  {
   "cell_type": "markdown",
   "id": "b4f8bc35-f146-4022-a954-085101b1c655",
   "metadata": {},
   "source": [
    "#### Так как pvalue > 0.05, мы не можем отклонить нулевую гипотезу. Следовательно данные распределены нормально"
   ]
  },
  {
   "cell_type": "markdown",
   "id": "b69bfdfc-f8e4-47d9-a4c6-43a55eafc886",
   "metadata": {},
   "source": [
    "### 3.Провожу однофакторный дисперсионный анализ с помощью функции f_oneway для сравнения средних в группах "
   ]
  },
  {
   "cell_type": "code",
   "execution_count": 50,
   "id": "8ee383f0-82f0-4a0e-a61e-e21545fe6f32",
   "metadata": {},
   "outputs": [
    {
     "data": {
      "text/plain": [
       "F_onewayResult(statistic=2886.166657438961, pvalue=0.0)"
      ]
     },
     "execution_count": 50,
     "metadata": {},
     "output_type": "execute_result"
    }
   ],
   "source": [
    "stats.f_oneway(a_pc, b_pc, c_pc)"
   ]
  },
  {
   "cell_type": "markdown",
   "id": "6acf0c0f-7964-48d2-a5c5-5f7d88cb8980",
   "metadata": {},
   "source": [
    "#### ВЫВОД: так как pvalue < 0.05, следовательно значимые различия между группами есть"
   ]
  },
  {
   "cell_type": "markdown",
   "id": "c6bb27e9-1aba-42ce-a6e3-67111b52648b",
   "metadata": {},
   "source": [
    "### 4. Используя критерий Тьюки (pairwise_tukeyhsd) выясняю между какими именно группами существуют стат.значимые различия"
   ]
  },
  {
   "cell_type": "code",
   "execution_count": 56,
   "id": "c60b0724-58fc-4fb0-9988-45d0291f6c6e",
   "metadata": {},
   "outputs": [
    {
     "name": "stdout",
     "output_type": "stream",
     "text": [
      "Multiple Comparison of Means - Tukey HSD, FWER=0.05 \n",
      "====================================================\n",
      "group1 group2 meandiff p-adj  lower    upper  reject\n",
      "----------------------------------------------------\n",
      "     A      B    8.034 0.001   7.7038  8.3642   True\n",
      "     A      C  -2.1093 0.001  -2.4395 -1.7791   True\n",
      "     B      C -10.1433 0.001 -10.4735 -9.8131   True\n",
      "----------------------------------------------------\n"
     ]
    }
   ],
   "source": [
    "print(pairwise_tukeyhsd(df_1['events'], groups=df_1['group']).summary())"
   ]
  },
  {
   "cell_type": "markdown",
   "id": "8fc61fe0-cfdd-4b67-bd39-85129741903e",
   "metadata": {},
   "source": [
    "Визуализирую полученные значения на графике "
   ]
  },
  {
   "cell_type": "code",
   "execution_count": 112,
   "id": "67987dd5-158a-48f9-8d4c-16ca5721e142",
   "metadata": {},
   "outputs": [
    {
     "data": {
      "text/plain": [
       "Text(0, 0.5, 'Число покупок')"
      ]
     },
     "execution_count": 112,
     "metadata": {},
     "output_type": "execute_result"
    },
    {
     "data": {
      "image/png": "[encoded data removed]",
      "text/plain": [
       "<Figure size 1152x432 with 1 Axes>"
      ]
     },
     "metadata": {},
     "output_type": "display_data"
    }
   ],
   "source": [
    "sns.pointplot(x='group', y='events', data = df_1, capsize = .1)\n",
    "plt.title(\"Число покупок и формат фотографий еды\")\n",
    "plt.xlabel(\"Формат\")\n",
    "plt.ylabel(\"Число покупок\")\n"
   ]
  },
  {
   "cell_type": "markdown",
   "id": "b4bb42c8-e899-4db6-8580-588cd4610c1d",
   "metadata": {},
   "source": [
    " Колонка meandiff показывает различие между group2 и group1. Колонка reject показывает, существуют ли стат.значимые различие (True) или нет (False). Видим, что различия существуют между всеми группами\n",
    "\n",
    "### По результатам теста можно сделать вывод о том, что использование квадратных фотографий (B) товаров увеличило число покупок. Следовательно выбор необходимо сделать в пользу данного формата фотографий. "
   ]
  },
  {
   "cell_type": "markdown",
   "id": "8008fa53-184c-4bbc-84d3-b3156a3b5ed0",
   "metadata": {},
   "source": [
    "         "
   ]
  },
  {
   "cell_type": "markdown",
   "id": "76ff42eb-35ca-4cef-b338-5ef7fa3ed674",
   "metadata": {},
   "source": [
    "          "
   ]
  },
  {
   "cell_type": "markdown",
   "id": "6735e426-0444-4a23-b518-001af4cc9934",
   "metadata": {},
   "source": [
    "### Эксперимент №2:Тестирование кнопки заказа товаров"
   ]
  },
  {
   "cell_type": "markdown",
   "id": "94b39a70-1709-4364-9a57-03d7c256619f",
   "metadata": {},
   "source": [
    "Для проведения эксперимента я воспользуюсь методом многофакторного дисперсионного анализа, так как в данном случае наша зависимая переменная (сумарное количество товаров) зависит от двух факторов - кнопки заказа приложения и сегмента пользователя"
   ]
  },
  {
   "cell_type": "markdown",
   "id": "7d521a5c-174e-402e-81c7-34bb2d423127",
   "metadata": {},
   "source": [
    "Подгружаю датасет, смотрю на данные, ищу пустые значения."
   ]
  },
  {
   "cell_type": "code",
   "execution_count": 60,
   "id": "0a8abfc6-74fc-4426-b7f1-bbbaf444d01d",
   "metadata": {},
   "outputs": [],
   "source": [
    "df_2 = pd.read_csv('5_task_2.csv')"
   ]
  },
  {
   "cell_type": "code",
   "execution_count": 61,
   "id": "df539302-edf5-461d-8c42-244b25dba60d",
   "metadata": {},
   "outputs": [
    {
     "data": {
      "text/html": [
       "<div>\n",
       "<style scoped>\n",
       "    .dataframe tbody tr th:only-of-type {\n",
       "        vertical-align: middle;\n",
       "    }\n",
       "\n",
       "    .dataframe tbody tr th {\n",
       "        vertical-align: top;\n",
       "    }\n",
       "\n",
       "    .dataframe thead th {\n",
       "        text-align: right;\n",
       "    }\n",
       "</style>\n",
       "<table border=\"1\" class=\"dataframe\">\n",
       "  <thead>\n",
       "    <tr style=\"text-align: right;\">\n",
       "      <th></th>\n",
       "      <th>id</th>\n",
       "      <th>group</th>\n",
       "      <th>segment</th>\n",
       "      <th>events</th>\n",
       "    </tr>\n",
       "  </thead>\n",
       "  <tbody>\n",
       "    <tr>\n",
       "      <th>0</th>\n",
       "      <td>83440</td>\n",
       "      <td>test</td>\n",
       "      <td>high</td>\n",
       "      <td>78.0</td>\n",
       "    </tr>\n",
       "    <tr>\n",
       "      <th>1</th>\n",
       "      <td>96723</td>\n",
       "      <td>test</td>\n",
       "      <td>high</td>\n",
       "      <td>71.0</td>\n",
       "    </tr>\n",
       "    <tr>\n",
       "      <th>2</th>\n",
       "      <td>68719</td>\n",
       "      <td>test</td>\n",
       "      <td>high</td>\n",
       "      <td>80.0</td>\n",
       "    </tr>\n",
       "    <tr>\n",
       "      <th>3</th>\n",
       "      <td>50399</td>\n",
       "      <td>test</td>\n",
       "      <td>high</td>\n",
       "      <td>80.0</td>\n",
       "    </tr>\n",
       "    <tr>\n",
       "      <th>4</th>\n",
       "      <td>95613</td>\n",
       "      <td>test</td>\n",
       "      <td>high</td>\n",
       "      <td>78.0</td>\n",
       "    </tr>\n",
       "  </tbody>\n",
       "</table>\n",
       "</div>"
      ],
      "text/plain": [
       "      id group segment  events\n",
       "0  83440  test    high    78.0\n",
       "1  96723  test    high    71.0\n",
       "2  68719  test    high    80.0\n",
       "3  50399  test    high    80.0\n",
       "4  95613  test    high    78.0"
      ]
     },
     "execution_count": 61,
     "metadata": {},
     "output_type": "execute_result"
    }
   ],
   "source": [
    "df_2.head()"
   ]
  },
  {
   "cell_type": "code",
   "execution_count": 119,
   "id": "09a4e84a-92ff-457c-8486-2b96b382576e",
   "metadata": {},
   "outputs": [
    {
     "data": {
      "text/plain": [
       "id               int64\n",
       "group           object\n",
       "segment         object\n",
       "events         float64\n",
       "combination     object\n",
       "dtype: object"
      ]
     },
     "execution_count": 119,
     "metadata": {},
     "output_type": "execute_result"
    }
   ],
   "source": [
    "df_2.dtypes"
   ]
  },
  {
   "cell_type": "code",
   "execution_count": 120,
   "id": "2de29c88-fb7b-4af9-b852-bdfa9fbe3f91",
   "metadata": {},
   "outputs": [
    {
     "data": {
      "text/plain": [
       "id             0\n",
       "group          0\n",
       "segment        0\n",
       "events         0\n",
       "combination    0\n",
       "dtype: int64"
      ]
     },
     "execution_count": 120,
     "metadata": {},
     "output_type": "execute_result"
    }
   ],
   "source": [
    "df_2.isna().sum()"
   ]
  },
  {
   "cell_type": "markdown",
   "id": "d2bf8aca-e6b7-4e69-881d-f1c31f4251b5",
   "metadata": {},
   "source": [
    "### 1. Визуализирую распределение events для контрольной и тестовой групп "
   ]
  },
  {
   "cell_type": "code",
   "execution_count": 87,
   "id": "f3592266-2e6f-474a-8780-076591be1398",
   "metadata": {},
   "outputs": [
    {
     "data": {
      "text/plain": [
       "<AxesSubplot:xlabel='events'>"
      ]
     },
     "execution_count": 87,
     "metadata": {},
     "output_type": "execute_result"
    },
    {
     "data": {
      "image/png": "[encoded data removed]",
      "text/plain": [
       "<Figure size 1152x432 with 1 Axes>"
      ]
     },
     "metadata": {},
     "output_type": "display_data"
    }
   ],
   "source": [
    "# тестовая группа\n",
    "\n",
    "sns.distplot(df_2.query('group == \"test\"').events, kde=False)"
   ]
  },
  {
   "cell_type": "code",
   "execution_count": 88,
   "id": "02d88b9a-eb39-4eff-9943-1fb848264e47",
   "metadata": {},
   "outputs": [
    {
     "data": {
      "text/plain": [
       "<AxesSubplot:xlabel='events'>"
      ]
     },
     "execution_count": 88,
     "metadata": {},
     "output_type": "execute_result"
    },
    {
     "data": {
      "image/png": "[encoded data removed]",
      "text/plain": [
       "<Figure size 1152x432 with 1 Axes>"
      ]
     },
     "metadata": {},
     "output_type": "display_data"
    }
   ],
   "source": [
    "# контрольная группа\n",
    "\n",
    "sns.distplot(df_2.query('group == \"control\"').events, kde=False)"
   ]
  },
  {
   "cell_type": "markdown",
   "id": "95c6090d-7125-48f0-b4e2-2154c90b6754",
   "metadata": {},
   "source": [
    "### 2. Нахожу средннее, медиану и стандартное отклонение events в разбивке по группе и сегменту пользователя"
   ]
  },
  {
   "cell_type": "code",
   "execution_count": 97,
   "id": "44ddd7c9-0094-4ea8-818f-8862d5aed125",
   "metadata": {},
   "outputs": [
    {
     "data": {
      "text/html": [
       "<div>\n",
       "<style scoped>\n",
       "    .dataframe tbody tr th:only-of-type {\n",
       "        vertical-align: middle;\n",
       "    }\n",
       "\n",
       "    .dataframe tbody tr th {\n",
       "        vertical-align: top;\n",
       "    }\n",
       "\n",
       "    .dataframe thead th {\n",
       "        text-align: right;\n",
       "    }\n",
       "</style>\n",
       "<table border=\"1\" class=\"dataframe\">\n",
       "  <thead>\n",
       "    <tr style=\"text-align: right;\">\n",
       "      <th></th>\n",
       "      <th></th>\n",
       "      <th>count</th>\n",
       "      <th>mean</th>\n",
       "      <th>std</th>\n",
       "      <th>min</th>\n",
       "      <th>25%</th>\n",
       "      <th>50%</th>\n",
       "      <th>75%</th>\n",
       "      <th>max</th>\n",
       "    </tr>\n",
       "    <tr>\n",
       "      <th>group</th>\n",
       "      <th>segment</th>\n",
       "      <th></th>\n",
       "      <th></th>\n",
       "      <th></th>\n",
       "      <th></th>\n",
       "      <th></th>\n",
       "      <th></th>\n",
       "      <th></th>\n",
       "      <th></th>\n",
       "    </tr>\n",
       "  </thead>\n",
       "  <tbody>\n",
       "    <tr>\n",
       "      <th rowspan=\"2\" valign=\"top\">control</th>\n",
       "      <th>high</th>\n",
       "      <td>10000.0</td>\n",
       "      <td>59.97</td>\n",
       "      <td>7.81</td>\n",
       "      <td>31.0</td>\n",
       "      <td>55.0</td>\n",
       "      <td>60.0</td>\n",
       "      <td>65.0</td>\n",
       "      <td>89.0</td>\n",
       "    </tr>\n",
       "    <tr>\n",
       "      <th>low</th>\n",
       "      <td>40000.0</td>\n",
       "      <td>20.03</td>\n",
       "      <td>4.47</td>\n",
       "      <td>4.0</td>\n",
       "      <td>17.0</td>\n",
       "      <td>20.0</td>\n",
       "      <td>23.0</td>\n",
       "      <td>41.0</td>\n",
       "    </tr>\n",
       "    <tr>\n",
       "      <th rowspan=\"2\" valign=\"top\">test</th>\n",
       "      <th>high</th>\n",
       "      <td>10000.0</td>\n",
       "      <td>69.94</td>\n",
       "      <td>8.40</td>\n",
       "      <td>40.0</td>\n",
       "      <td>64.0</td>\n",
       "      <td>70.0</td>\n",
       "      <td>76.0</td>\n",
       "      <td>102.0</td>\n",
       "    </tr>\n",
       "    <tr>\n",
       "      <th>low</th>\n",
       "      <td>40000.0</td>\n",
       "      <td>33.03</td>\n",
       "      <td>5.72</td>\n",
       "      <td>13.0</td>\n",
       "      <td>29.0</td>\n",
       "      <td>33.0</td>\n",
       "      <td>37.0</td>\n",
       "      <td>59.0</td>\n",
       "    </tr>\n",
       "  </tbody>\n",
       "</table>\n",
       "</div>"
      ],
      "text/plain": [
       "                   count   mean   std   min   25%   50%   75%    max\n",
       "group   segment                                                     \n",
       "control high     10000.0  59.97  7.81  31.0  55.0  60.0  65.0   89.0\n",
       "        low      40000.0  20.03  4.47   4.0  17.0  20.0  23.0   41.0\n",
       "test    high     10000.0  69.94  8.40  40.0  64.0  70.0  76.0  102.0\n",
       "        low      40000.0  33.03  5.72  13.0  29.0  33.0  37.0   59.0"
      ]
     },
     "execution_count": 97,
     "metadata": {},
     "output_type": "execute_result"
    }
   ],
   "source": [
    "df_2.groupby(['group','segment']).events.describe().round(2)"
   ]
  },
  {
   "cell_type": "markdown",
   "id": "95097e48-d8cc-4aa0-b7e6-ee307e048f5b",
   "metadata": {},
   "source": [
    "### Провожу тест"
   ]
  },
  {
   "cell_type": "markdown",
   "id": "829a72fc-4d7f-4e3f-aa28-3b65b2c1c7ae",
   "metadata": {},
   "source": [
    "Для проверки эффекта нескольких переменных group и segment на events, с взаимодействием факторов для модели будет применяться следующая формула:\n",
    "* events ~ segment + group + segment:group"
   ]
  },
  {
   "cell_type": "code",
   "execution_count": 102,
   "id": "4c4f8e0d-e705-4d94-a356-536f55e7fb7b",
   "metadata": {},
   "outputs": [],
   "source": [
    "# строим модель \n",
    "\n",
    "model = smf.ols(formula='events ~ segment + group + segment:group', data = df_2).fit()\n",
    "\n",
    "# результаты используем в другой функции anova_lm\n",
    "\n",
    "aov_table = anova_lm(model, typ=2)"
   ]
  },
  {
   "cell_type": "code",
   "execution_count": 103,
   "id": "80f8c134-fd77-458d-a2a8-35f20cfdc1ee",
   "metadata": {},
   "outputs": [
    {
     "name": "stdout",
     "output_type": "stream",
     "text": [
      "                    sum_sq       df          F  PR(>F)\n",
      "segment        23624796.65      1.0  689756.38     0.0\n",
      "group           3837195.41      1.0  112031.86     0.0\n",
      "segment:group     36642.44      1.0    1069.82     0.0\n",
      "Residual        3424955.89  99996.0        NaN     NaN\n"
     ]
    }
   ],
   "source": [
    "print(round(aov_table,2))"
   ]
  },
  {
   "cell_type": "markdown",
   "id": "757db528-5b1b-4dc8-b21c-f9a444e5a52e",
   "metadata": {},
   "source": [
    "#### Данный тест показывает только то, что и фактор segment, и фактор group и их взаимодействие являются значимыми. Но мы не можем сказать какие именно группы различаются и каким образом. Чтобы ответить на эти вопросы, и понять между какими группами существуют стат.значимые различия, необходимо использовать критерий Тьюки"
   ]
  },
  {
   "cell_type": "markdown",
   "id": "b74cfded-af10-4155-839a-4d60dde03cda",
   "metadata": {},
   "source": [
    "Для последующих сравнений между группами можно проделать следующую операцию: соединить колонки group и segment в combination, чтобы потом передать в аргумент groups в MultiComparison либо pairwise_tukey"
   ]
  },
  {
   "cell_type": "code",
   "execution_count": 107,
   "id": "5234bf87-508b-45cb-b630-965bf03b3039",
   "metadata": {},
   "outputs": [],
   "source": [
    "df_2['combination'] = df_2.group + ' \\ ' + df_2.segment"
   ]
  },
  {
   "cell_type": "code",
   "execution_count": 109,
   "id": "3f043fb8-caf1-418d-91c2-39015d48c334",
   "metadata": {},
   "outputs": [
    {
     "data": {
      "text/html": [
       "<div>\n",
       "<style scoped>\n",
       "    .dataframe tbody tr th:only-of-type {\n",
       "        vertical-align: middle;\n",
       "    }\n",
       "\n",
       "    .dataframe tbody tr th {\n",
       "        vertical-align: top;\n",
       "    }\n",
       "\n",
       "    .dataframe thead th {\n",
       "        text-align: right;\n",
       "    }\n",
       "</style>\n",
       "<table border=\"1\" class=\"dataframe\">\n",
       "  <thead>\n",
       "    <tr style=\"text-align: right;\">\n",
       "      <th></th>\n",
       "      <th>id</th>\n",
       "      <th>group</th>\n",
       "      <th>segment</th>\n",
       "      <th>events</th>\n",
       "      <th>combination</th>\n",
       "    </tr>\n",
       "  </thead>\n",
       "  <tbody>\n",
       "    <tr>\n",
       "      <th>0</th>\n",
       "      <td>83440</td>\n",
       "      <td>test</td>\n",
       "      <td>high</td>\n",
       "      <td>78.0</td>\n",
       "      <td>test \\ high</td>\n",
       "    </tr>\n",
       "    <tr>\n",
       "      <th>1</th>\n",
       "      <td>96723</td>\n",
       "      <td>test</td>\n",
       "      <td>high</td>\n",
       "      <td>71.0</td>\n",
       "      <td>test \\ high</td>\n",
       "    </tr>\n",
       "    <tr>\n",
       "      <th>2</th>\n",
       "      <td>68719</td>\n",
       "      <td>test</td>\n",
       "      <td>high</td>\n",
       "      <td>80.0</td>\n",
       "      <td>test \\ high</td>\n",
       "    </tr>\n",
       "    <tr>\n",
       "      <th>3</th>\n",
       "      <td>50399</td>\n",
       "      <td>test</td>\n",
       "      <td>high</td>\n",
       "      <td>80.0</td>\n",
       "      <td>test \\ high</td>\n",
       "    </tr>\n",
       "    <tr>\n",
       "      <th>4</th>\n",
       "      <td>95613</td>\n",
       "      <td>test</td>\n",
       "      <td>high</td>\n",
       "      <td>78.0</td>\n",
       "      <td>test \\ high</td>\n",
       "    </tr>\n",
       "  </tbody>\n",
       "</table>\n",
       "</div>"
      ],
      "text/plain": [
       "      id group segment  events  combination\n",
       "0  83440  test    high    78.0  test \\ high\n",
       "1  96723  test    high    71.0  test \\ high\n",
       "2  68719  test    high    80.0  test \\ high\n",
       "3  50399  test    high    80.0  test \\ high\n",
       "4  95613  test    high    78.0  test \\ high"
      ]
     },
     "execution_count": 109,
     "metadata": {},
     "output_type": "execute_result"
    }
   ],
   "source": [
    "df_2.head()"
   ]
  },
  {
   "cell_type": "code",
   "execution_count": 111,
   "id": "d5337965-ec78-4b4d-ab12-e4384b8d5b76",
   "metadata": {},
   "outputs": [
    {
     "name": "stdout",
     "output_type": "stream",
     "text": [
      "        Multiple Comparison of Means - Tukey HSD, FWER=0.05         \n",
      "====================================================================\n",
      "    group1         group2    meandiff p-adj  lower    upper   reject\n",
      "--------------------------------------------------------------------\n",
      "control \\ high control \\ low -39.9392 0.001 -40.1073 -39.7711   True\n",
      "control \\ high   test \\ high   9.9677 0.001   9.7551  10.1803   True\n",
      "control \\ high    test \\ low -26.9449 0.001  -27.113 -26.7768   True\n",
      " control \\ low   test \\ high  49.9069 0.001  49.7388   50.075   True\n",
      " control \\ low    test \\ low  12.9944 0.001   12.888  13.1007   True\n",
      "   test \\ high    test \\ low -36.9126 0.001 -37.0807 -36.7445   True\n",
      "--------------------------------------------------------------------\n"
     ]
    }
   ],
   "source": [
    "# использую критерий Тьюки \n",
    "\n",
    "print(pairwise_tukeyhsd(df_2['events'], groups = df_2['combination']))"
   ]
  },
  {
   "cell_type": "markdown",
   "id": "eb57828c-0590-4393-987f-92435cd3c8cf",
   "metadata": {},
   "source": [
    "### ВЫВОДЫ:\n",
    "* Разница между значением у тестовой группы сегмента low и контрольной группой этого же сегмента равна примерно 13\n",
    "* Для обоих сегментов показатели статистически значимо _увеличились_ по сравнению с контрольной группой\n",
    "* Разница между control/high и test/high составила около 10\n"
   ]
  },
  {
   "cell_type": "markdown",
   "id": "700bb246-5952-4aa1-a3e1-1db76376141d",
   "metadata": {},
   "source": [
    "Визуализирую результаты теста\n"
   ]
  },
  {
   "cell_type": "code",
   "execution_count": 116,
   "id": "5d0bacb1-1963-4a11-9103-ff2941980b6b",
   "metadata": {},
   "outputs": [
    {
     "data": {
      "text/plain": [
       "Text(0, 0.5, 'Число покупок')"
      ]
     },
     "execution_count": 116,
     "metadata": {},
     "output_type": "execute_result"
    },
    {
     "data": {
      "image/png": "[encoded data removed]",
      "text/plain": [
       "<Figure size 1152x432 with 1 Axes>"
      ]
     },
     "metadata": {},
     "output_type": "display_data"
    }
   ],
   "source": [
    "sns.pointplot(x='group', y='events', hue='segment', data = df_2, capsize = .1)\n",
    "\n",
    "# заголовок графика\n",
    "plt.title('Число покупок в контрольных группах с разбивкой на сегменты')\n",
    "\n",
    "# подпись оси х\n",
    "plt.xlabel('Группа')\n",
    "# подпись оси y\n",
    "plt.ylabel('Число покупок')"
   ]
  },
  {
   "cell_type": "markdown",
   "id": "ef5c6cb6-0f2a-47aa-95d0-a6f7c5500e1a",
   "metadata": {},
   "source": [
    "#### ВЫВОД теста №2: Фактор group оказался значимым, фактор segment – значимым, их взаимодействие – значимо. Судя по графику, для всех групп среднее значение events увеличилось, поэтому принимаем решение выкатить новую версию кнопки заказа"
   ]
  }
 ],
 "metadata": {
  "kernelspec": {
   "display_name": "Python 3 (ipykernel)",
   "language": "python",
   "name": "python3"
  },
  "language_info": {
   "codemirror_mode": {
    "name": "ipython",
    "version": 3
   },
   "file_extension": ".py",
   "mimetype": "text/x-python",
   "name": "python",
   "nbconvert_exporter": "python",
   "pygments_lexer": "ipython3",
   "version": "3.8.10"
  }
 },
 "nbformat": 4,
 "nbformat_minor": 5
}
