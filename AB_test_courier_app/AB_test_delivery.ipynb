{
 "cells": [
  {
   "cell_type": "markdown",
   "id": "8367cf07-bc06-4375-aa4e-479c0ccfe9e5",
   "metadata": {},
   "source": [
    "Импортирую библиотеки"
   ]
  },
  {
   "cell_type": "code",
   "execution_count": 1,
   "id": "7e21b5c4-09c0-4b07-9ad9-f05fb70f5d82",
   "metadata": {},
   "outputs": [],
   "source": [
    "import pandas as pd\n",
    "import numpy as np\n",
    "from scipy import stats \n",
    "import seaborn as sns \n",
    "import matplotlib.pyplot as plt \n"
   ]
  },
  {
   "cell_type": "markdown",
   "id": "d6ad7730-a518-4430-b975-4892309404f1",
   "metadata": {},
   "source": [
    "Подгружаю датасет, смотрю на данные, пустые значения."
   ]
  },
  {
   "cell_type": "code",
   "execution_count": 2,
   "id": "f3bdad24-3dc6-4463-a09a-889f74d10ff1",
   "metadata": {},
   "outputs": [],
   "source": [
    "df = pd.read_csv('experiment_lesson_4.csv')"
   ]
  },
  {
   "cell_type": "code",
   "execution_count": 3,
   "id": "a120c5ea-0629-444d-b5a8-21c2e03b895c",
   "metadata": {},
   "outputs": [
    {
     "data": {
      "text/html": [
       "<div>\n",
       "<style scoped>\n",
       "    .dataframe tbody tr th:only-of-type {\n",
       "        vertical-align: middle;\n",
       "    }\n",
       "\n",
       "    .dataframe tbody tr th {\n",
       "        vertical-align: top;\n",
       "    }\n",
       "\n",
       "    .dataframe thead th {\n",
       "        text-align: right;\n",
       "    }\n",
       "</style>\n",
       "<table border=\"1\" class=\"dataframe\">\n",
       "  <thead>\n",
       "    <tr style=\"text-align: right;\">\n",
       "      <th></th>\n",
       "      <th>order_id</th>\n",
       "      <th>delivery_time</th>\n",
       "      <th>district</th>\n",
       "      <th>experiment_group</th>\n",
       "    </tr>\n",
       "  </thead>\n",
       "  <tbody>\n",
       "    <tr>\n",
       "      <th>0</th>\n",
       "      <td>3159</td>\n",
       "      <td>44.0</td>\n",
       "      <td>Purlieus</td>\n",
       "      <td>control</td>\n",
       "    </tr>\n",
       "    <tr>\n",
       "      <th>1</th>\n",
       "      <td>10426</td>\n",
       "      <td>51.0</td>\n",
       "      <td>Purlieus</td>\n",
       "      <td>control</td>\n",
       "    </tr>\n",
       "    <tr>\n",
       "      <th>2</th>\n",
       "      <td>9155</td>\n",
       "      <td>46.0</td>\n",
       "      <td>Purlieus</td>\n",
       "      <td>control</td>\n",
       "    </tr>\n",
       "    <tr>\n",
       "      <th>3</th>\n",
       "      <td>10699</td>\n",
       "      <td>34.0</td>\n",
       "      <td>Purlieus</td>\n",
       "      <td>control</td>\n",
       "    </tr>\n",
       "    <tr>\n",
       "      <th>4</th>\n",
       "      <td>10061</td>\n",
       "      <td>43.0</td>\n",
       "      <td>Purlieus</td>\n",
       "      <td>control</td>\n",
       "    </tr>\n",
       "  </tbody>\n",
       "</table>\n",
       "</div>"
      ],
      "text/plain": [
       "   order_id  delivery_time  district experiment_group\n",
       "0      3159           44.0  Purlieus          control\n",
       "1     10426           51.0  Purlieus          control\n",
       "2      9155           46.0  Purlieus          control\n",
       "3     10699           34.0  Purlieus          control\n",
       "4     10061           43.0  Purlieus          control"
      ]
     },
     "execution_count": 3,
     "metadata": {},
     "output_type": "execute_result"
    }
   ],
   "source": [
    "df.head()"
   ]
  },
  {
   "cell_type": "code",
   "execution_count": 4,
   "id": "969924d1-d9d6-40dd-a71e-d2bac655cf35",
   "metadata": {},
   "outputs": [
    {
     "data": {
      "text/plain": [
       "order_id              int64\n",
       "delivery_time       float64\n",
       "district             object\n",
       "experiment_group     object\n",
       "dtype: object"
      ]
     },
     "execution_count": 4,
     "metadata": {},
     "output_type": "execute_result"
    }
   ],
   "source": [
    "df.dtypes"
   ]
  },
  {
   "cell_type": "code",
   "execution_count": 7,
   "id": "018f97f6-d78d-486a-8292-d4032a9e3964",
   "metadata": {},
   "outputs": [
    {
     "data": {
      "text/plain": [
       "order_id            0\n",
       "delivery_time       0\n",
       "district            0\n",
       "experiment_group    0\n",
       "dtype: int64"
      ]
     },
     "execution_count": 7,
     "metadata": {},
     "output_type": "execute_result"
    }
   ],
   "source": [
    "df.isna().sum()"
   ]
  },
  {
   "cell_type": "markdown",
   "id": "47456430-44b3-4910-95e2-7e8774841398",
   "metadata": {},
   "source": [
    "#### Формулирую гипотезы для проверки:\n",
    "- Нулевая гипотеза (H0): Разницы между средним временем доставки в тестовой и контрольной группе нет.\n",
    "- Альтернативная гипотеза (H1): Разницы между средним временем доставки в тестовой и контрольной нет."
   ]
  },
  {
   "cell_type": "markdown",
   "id": "6ab22dc6-597c-4c0f-a57e-5de83b22affc",
   "metadata": {},
   "source": [
    "### Задача 1: Постройте распределение времени доставки по районам отдельно в контрольной и тестовой группах"
   ]
  },
  {
   "cell_type": "code",
   "execution_count": 11,
   "id": "eec5dd8d-1dd7-428d-9c59-f9e7f15c20db",
   "metadata": {},
   "outputs": [
    {
     "data": {
      "text/plain": [
       "district\n",
       "Central     AxesSubplot(0.125,0.125;0.775x0.755)\n",
       "Purlieus    AxesSubplot(0.125,0.125;0.775x0.755)\n",
       "Suburb      AxesSubplot(0.125,0.125;0.775x0.755)\n",
       "Name: delivery_time, dtype: object"
      ]
     },
     "execution_count": 11,
     "metadata": {},
     "output_type": "execute_result"
    },
    {
     "data": {
      "image/png": "[encoded data removed]",
      "text/plain": [
       "<Figure size 432x288 with 1 Axes>"
      ]
     },
     "metadata": {
      "needs_background": "light"
     },
     "output_type": "display_data"
    }
   ],
   "source": [
    "df.query('experiment_group == \"control\"').groupby('district').delivery_time.hist()"
   ]
  },
  {
   "cell_type": "code",
   "execution_count": 10,
   "id": "6eba96be-7eca-4984-ac6a-e1128c463246",
   "metadata": {},
   "outputs": [
    {
     "data": {
      "text/plain": [
       "district\n",
       "Central     AxesSubplot(0.125,0.125;0.775x0.755)\n",
       "Purlieus    AxesSubplot(0.125,0.125;0.775x0.755)\n",
       "Suburb      AxesSubplot(0.125,0.125;0.775x0.755)\n",
       "Name: delivery_time, dtype: object"
      ]
     },
     "execution_count": 10,
     "metadata": {},
     "output_type": "execute_result"
    },
    {
     "data": {
      "image/png": "[encoded data removed]",
      "text/plain": [
       "<Figure size 432x288 with 1 Axes>"
      ]
     },
     "metadata": {
      "needs_background": "light"
     },
     "output_type": "display_data"
    }
   ],
   "source": [
    "df.query('experiment_group == \"test\"').groupby('district').delivery_time.hist()"
   ]
  },
  {
   "cell_type": "markdown",
   "id": "44b7ce26-548f-40a0-bba7-041a395459a3",
   "metadata": {},
   "source": [
    "### Задача 2: Посчитайте количество наблюдений в тестовой и контрольной группе. На сколько по модулю отличается количество наблюдений в тесте и контроле?"
   ]
  },
  {
   "cell_type": "code",
   "execution_count": 22,
   "id": "d7a1e830-6c4b-49de-babd-4a157306d0c1",
   "metadata": {},
   "outputs": [
    {
     "name": "stdout",
     "output_type": "stream",
     "text": [
      "experiment_group\n",
      "control    10092\n",
      "test       10104\n",
      "Name: order_id, dtype: int64\n",
      "12\n"
     ]
    }
   ],
   "source": [
    "cnt = df.groupby('experiment_group').order_id.count()\n",
    "print(cnt)\n",
    "print(cnt[1] - cnt[0])"
   ]
  },
  {
   "cell_type": "markdown",
   "id": "bbf4c60f-dc1c-4000-a634-d9ea47e7ca81",
   "metadata": {},
   "source": [
    "##### Ответ: на 12 наблюдений"
   ]
  },
  {
   "cell_type": "markdown",
   "id": "0365fbf8-42ab-41f7-9a7a-d930cec67f08",
   "metadata": {},
   "source": [
    "### Задача 3: Проверьте выполнение условий на нормальность и посчитайте стандартное отклонение в тесте и в контроле."
   ]
  },
  {
   "cell_type": "markdown",
   "id": "ee81b709-5ea5-4a26-a219-5d52251e8c56",
   "metadata": {},
   "source": [
    "Нормальность распределения проверяю с помощью теста Shapiro-Wilk. Этот тест показывает, что значения в группах распределены нормально (Н0). Перед применением теста делаю семплирование с помощью sample(), в качестве аргумента random_state = 17, который позволяет сделать результаты более стабильными."
   ]
  },
  {
   "cell_type": "code",
   "execution_count": 43,
   "id": "9b1f14d7-bfcf-42c5-94a4-2bd9b76443a7",
   "metadata": {},
   "outputs": [
    {
     "data": {
      "text/plain": [
       "ShapiroResult(statistic=0.9975479245185852, pvalue=0.14013493061065674)"
      ]
     },
     "execution_count": 43,
     "metadata": {},
     "output_type": "execute_result"
    }
   ],
   "source": [
    "#  Shapiro-Wilk для тестовой группы\n",
    "\n",
    "stats.shapiro(df.query('experiment_group == \"test\"').delivery_time.sample(1000, random_state=17))"
   ]
  },
  {
   "cell_type": "markdown",
   "id": "7fade361-aefd-4f64-8d5f-10fa918e2f88",
   "metadata": {},
   "source": [
    "* Тест показал, что значения в тестовой группе распределены нормально (pvalue=0.14013493061065674)"
   ]
  },
  {
   "cell_type": "code",
   "execution_count": 45,
   "id": "3f99620b-8ac8-4c56-8c54-5aa439e016b6",
   "metadata": {},
   "outputs": [
    {
     "data": {
      "text/plain": [
       "ShapiroResult(statistic=0.9974725842475891, pvalue=0.12411931157112122)"
      ]
     },
     "execution_count": 45,
     "metadata": {},
     "output_type": "execute_result"
    }
   ],
   "source": [
    "# Shapiro-Wilk для контрольной группы\n",
    "\n",
    "stats.shapiro(df.query('experiment_group == \"control\"').delivery_time.sample(1000, random_state=17))"
   ]
  },
  {
   "cell_type": "markdown",
   "id": "b715c0e2-ea98-4587-92a5-93cd3f3d9b93",
   "metadata": {},
   "source": [
    "* Значения в контрольной группе также распределены нормально (pvalue = 0.12411931157112122)"
   ]
  },
  {
   "cell_type": "code",
   "execution_count": 39,
   "id": "b1c8e61c-a0c7-419f-8e7a-f2a3646303e8",
   "metadata": {},
   "outputs": [
    {
     "data": {
      "text/plain": [
       "9.88"
      ]
     },
     "execution_count": 39,
     "metadata": {},
     "output_type": "execute_result"
    }
   ],
   "source": [
    "round((df.query('experiment_group == \"test\"').delivery_time.std()),2)"
   ]
  },
  {
   "cell_type": "code",
   "execution_count": 41,
   "id": "73fb2846-9644-4e69-9318-cd9de7745e84",
   "metadata": {},
   "outputs": [
    {
     "data": {
      "text/plain": [
       "9.99"
      ]
     },
     "execution_count": 41,
     "metadata": {},
     "output_type": "execute_result"
    }
   ],
   "source": [
    "round((df.query('experiment_group == \"control\"').delivery_time.std()),2)"
   ]
  },
  {
   "cell_type": "markdown",
   "id": "3ccb06e8-f1a2-4592-8ef7-f73540915951",
   "metadata": {},
   "source": [
    "* Стандартное отклонение в тесте - 9.88, в контроле - 9.99"
   ]
  },
  {
   "cell_type": "markdown",
   "id": "19ad85a6-29b5-4af8-bd52-e24c27c959d0",
   "metadata": {},
   "source": [
    "### Задача 4: Проведите сравнение средних в тесте и контроле (t - test)"
   ]
  },
  {
   "cell_type": "markdown",
   "id": "f7957e67-7254-4094-8589-cee9e37f82ae",
   "metadata": {},
   "source": [
    "Для сравнения средних в экспериментальных группах использую Student's t-test \n",
    "* scipy.stats.ttest_ind(a,b)"
   ]
  },
  {
   "cell_type": "code",
   "execution_count": 59,
   "id": "f9db8665-ff82-4add-859b-c560cf5b34ba",
   "metadata": {},
   "outputs": [
    {
     "data": {
      "text/plain": [
       "Ttest_indResult(statistic=-43.03582663183714, pvalue=0.0)"
      ]
     },
     "execution_count": 59,
     "metadata": {},
     "output_type": "execute_result"
    }
   ],
   "source": [
    "stats.ttest_ind((df.query('experiment_group == \"test\"').delivery_time), (df.query('experiment_group == \"control\"').delivery_time))"
   ]
  },
  {
   "cell_type": "markdown",
   "id": "4561f768-8a5c-4b27-bd1b-99553e6f9519",
   "metadata": {},
   "source": [
    "* Статистика в тесте равно -43, p-value <= 0.05, следовательно можно говорить о том, что наши группы значимо различаются между собой"
   ]
  },
  {
   "cell_type": "markdown",
   "id": "651a03ab-4d21-411b-97a6-d1d3548ad8a5",
   "metadata": {},
   "source": [
    "### Задача 5: На сколько процентов изменилось среднее время доставки в тестовой группе? "
   ]
  },
  {
   "cell_type": "code",
   "execution_count": 63,
   "id": "bef5a8b6-179e-42d9-a4b2-0bdcc5da1e81",
   "metadata": {},
   "outputs": [],
   "source": [
    "# Рассчитываю среднее для тестовой группы\n",
    "\n",
    "test_m=df.query('experiment_group == \"test\"').delivery_time.mean()"
   ]
  },
  {
   "cell_type": "code",
   "execution_count": 65,
   "id": "17afdc2a-c9e0-426f-98b0-99b665792f48",
   "metadata": {},
   "outputs": [],
   "source": [
    "# Рассчитываю среднее для контрольной группы\n",
    "\n",
    "control_m=df.query('experiment_group == \"control\"').delivery_time.mean()"
   ]
  },
  {
   "cell_type": "code",
   "execution_count": 69,
   "id": "9d354480-f14d-4752-8691-5857d192c3ff",
   "metadata": {},
   "outputs": [
    {
     "data": {
      "text/plain": [
       "-13.35"
      ]
     },
     "execution_count": 69,
     "metadata": {},
     "output_type": "execute_result"
    }
   ],
   "source": [
    "# Рассчитываю насколько % изменилось среднее время доставки в тестовой группе относительно контрольной, округляю до сотых\n",
    "\n",
    "round(((test_m - control_m)/control_m *100),2)"
   ]
  },
  {
   "cell_type": "markdown",
   "id": "cd1a2fb8-a6cb-41fa-86ad-7e0df7f025c9",
   "metadata": {},
   "source": [
    "* Таким образом, время доставки в тестовой группе снизилось на 13%"
   ]
  },
  {
   "cell_type": "markdown",
   "id": "51dbbac2-72e8-4757-9c07-a384607efe8f",
   "metadata": {},
   "source": [
    "### 6. Выводы A/B теста"
   ]
  },
  {
   "cell_type": "markdown",
   "id": "2f0f5eb4-6dee-45c1-88d8-14c24e17fd20",
   "metadata": {},
   "source": [
    "Раскатываем новый алгоритм на всех, так как среднее время доставки статистически значимо изменилось. Среднее время доставки в тесте меньше, чем в контроле."
   ]
  }
 ],
 "metadata": {
  "kernelspec": {
   "display_name": "Python 3 (ipykernel)",
   "language": "python",
   "name": "python3"
  },
  "language_info": {
   "codemirror_mode": {
    "name": "ipython",
    "version": 3
   },
   "file_extension": ".py",
   "mimetype": "text/x-python",
   "name": "python",
   "nbconvert_exporter": "python",
   "pygments_lexer": "ipython3",
   "version": "3.8.10"
  }
 },
 "nbformat": 4,
 "nbformat_minor": 5
}
